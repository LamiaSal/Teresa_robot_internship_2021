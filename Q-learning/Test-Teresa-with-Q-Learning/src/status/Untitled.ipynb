{
 "cells": [
  {
   "cell_type": "code",
   "execution_count": 90,
   "metadata": {},
   "outputs": [],
   "source": [
    "import pandas as pd\n",
    "import numpy as np\n",
    "\n",
    "read_file = pd.read_csv ('outputfile.txt')\n",
    "read_file.to_csv ('csv_outputfile.csv', index=None)"
   ]
  },
  {
   "cell_type": "code",
   "execution_count": 97,
   "metadata": {},
   "outputs": [
    {
     "data": {
      "text/plain": [
       "3"
      ]
     },
     "execution_count": 97,
     "metadata": {},
     "output_type": "execute_result"
    }
   ],
   "source": [
    "count = 0\n",
    "for i in range(len(read_file)):\n",
    "    teste = read_file.iloc[i].values\n",
    "    if 'seq' in teste[0]:\n",
    "        count = count+1\n",
    "        \n",
    "np_array = np.empty([count,3])"
   ]
  },
  {
   "cell_type": "code",
   "execution_count": 92,
   "metadata": {},
   "outputs": [
    {
     "data": {
      "text/plain": [
       "array([[1.62669715e+09, 1.24494947e+08, 6.60000000e+01],\n",
       "       [1.62669735e+09, 2.52749196e+08, 6.50000000e+01],\n",
       "       [1.62669756e+09, 5.83623911e+08, 6.40000000e+01]])"
      ]
     },
     "execution_count": 92,
     "metadata": {},
     "output_type": "execute_result"
    }
   ],
   "source": [
    "count = 0\n",
    "for i in range(len(read_file)):\n",
    "    teste = read_file.iloc[i].values\n",
    "    if 'nsecs' in teste[0]:\n",
    "        n=[int(s) for s in teste[0].split() if s.isdigit()]\n",
    "        np_array[count][1] = n[0]\n",
    "    elif 'secs' in teste[0]:\n",
    "        n=[int(s) for s in teste[0].split() if s.isdigit()]\n",
    "        np_array[count][0] = n[0]\n",
    "    elif 'percent' in teste[0]:\n",
    "        n=[int(s) for s in teste[0].split() if s.isdigit()]\n",
    "        np_array[count][2] = n[0]\n",
    "    elif '---' in teste[0]:\n",
    "        count = count+1\n",
    "        \n",
    "np_array"
   ]
  },
  {
   "cell_type": "code",
   "execution_count": 95,
   "metadata": {},
   "outputs": [],
   "source": [
    "df = pd.DataFrame(data=np_array, columns=['secs', 'nsecs', 'percent'])"
   ]
  },
  {
   "cell_type": "code",
   "execution_count": 96,
   "metadata": {},
   "outputs": [
    {
     "data": {
      "text/html": [
       "<div>\n",
       "<style scoped>\n",
       "    .dataframe tbody tr th:only-of-type {\n",
       "        vertical-align: middle;\n",
       "    }\n",
       "\n",
       "    .dataframe tbody tr th {\n",
       "        vertical-align: top;\n",
       "    }\n",
       "\n",
       "    .dataframe thead th {\n",
       "        text-align: right;\n",
       "    }\n",
       "</style>\n",
       "<table border=\"1\" class=\"dataframe\">\n",
       "  <thead>\n",
       "    <tr style=\"text-align: right;\">\n",
       "      <th></th>\n",
       "      <th>secs</th>\n",
       "      <th>nsecs</th>\n",
       "      <th>percent</th>\n",
       "    </tr>\n",
       "  </thead>\n",
       "  <tbody>\n",
       "    <tr>\n",
       "      <th>0</th>\n",
       "      <td>1.626697e+09</td>\n",
       "      <td>124494947.0</td>\n",
       "      <td>66.0</td>\n",
       "    </tr>\n",
       "    <tr>\n",
       "      <th>1</th>\n",
       "      <td>1.626697e+09</td>\n",
       "      <td>252749196.0</td>\n",
       "      <td>65.0</td>\n",
       "    </tr>\n",
       "    <tr>\n",
       "      <th>2</th>\n",
       "      <td>1.626698e+09</td>\n",
       "      <td>583623911.0</td>\n",
       "      <td>64.0</td>\n",
       "    </tr>\n",
       "  </tbody>\n",
       "</table>\n",
       "</div>"
      ],
      "text/plain": [
       "           secs        nsecs  percent\n",
       "0  1.626697e+09  124494947.0     66.0\n",
       "1  1.626697e+09  252749196.0     65.0\n",
       "2  1.626698e+09  583623911.0     64.0"
      ]
     },
     "execution_count": 96,
     "metadata": {},
     "output_type": "execute_result"
    }
   ],
   "source": [
    "df"
   ]
  },
  {
   "cell_type": "code",
   "execution_count": null,
   "metadata": {},
   "outputs": [],
   "source": []
  }
 ],
 "metadata": {
  "kernelspec": {
   "display_name": "Python 3",
   "language": "python",
   "name": "python3"
  },
  "language_info": {
   "codemirror_mode": {
    "name": "ipython",
    "version": 3
   },
   "file_extension": ".py",
   "mimetype": "text/x-python",
   "name": "python",
   "nbconvert_exporter": "python",
   "pygments_lexer": "ipython3",
   "version": "3.6.9"
  }
 },
 "nbformat": 4,
 "nbformat_minor": 4
}
